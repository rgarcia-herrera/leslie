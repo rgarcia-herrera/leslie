{
 "cells": [
  {
   "cell_type": "markdown",
   "metadata": {},
   "source": [
    "# Dinámica del Amor\n",
    "\n",
    "Se modela el estado emotivo de dos amantes, al paso del tiempo."
   ]
  },
  {
   "cell_type": "code",
   "execution_count": 15,
   "metadata": {
    "collapsed": false
   },
   "outputs": [],
   "source": [
    "# Para hacer experimentos numéricos importamos numpy\n",
    "import numpy as np\n",
    "\n",
    "# y biblioteca para plotear\n",
    "import matplotlib\n",
    "import matplotlib.pyplot as plt\n",
    "%matplotlib inline\n",
    "\n",
    "# cómputo simbólico con sympy\n",
    "from sympy import *\n",
    "init_printing()\n",
    "\n",
    "# definimos qué variables usar como símbolos\n",
    "alpha1, alfa2, alfa3, beta1, beta2 = symbols('alpha1 alpha2 alpha3 beta1 beta2')\n",
    "t = symbols('t')\n",
    "L, P = symbols('L P', cls=Function)"
   ]
  },
  {
   "cell_type": "markdown",
   "metadata": {},
   "source": [
    "$\\frac{dL(t)}{dt}=-\\alpha_{1}L(t)+R_{L}(P(t))+\\beta_{1}A_{P}$"
   ]
  },
  {
   "cell_type": "markdown",
   "metadata": {},
   "source": [
    "$\\frac{dP(t)}{dt}=-\\alpha_{2}L(t)+R_{p}(L(t))+\\beta_{2}\\frac{A_{L}}{1+\\delta Z(t)}$"
   ]
  },
  {
   "cell_type": "markdown",
   "metadata": {},
   "source": [
    "$\\frac{dZ(t)}{dt}=-\\alpha_{3}Z(t)+\\beta_{3}P(t)$"
   ]
  },
  {
   "cell_type": "markdown",
   "metadata": {},
   "source": [
    "$R_{P}(L)=\\gamma_{2}L$"
   ]
  },
  {
   "cell_type": "markdown",
   "metadata": {},
   "source": [
    "$R_{L}(P)=\\beta_{1}P\\left(1-\\left(\\frac{P}{\\gamma}\\right)^{2}\\right)$"
   ]
  },
  {
   "cell_type": "code",
   "execution_count": 19,
   "metadata": {
    "collapsed": false
   },
   "outputs": [],
   "source": [
    "def laura(t, alpha1, beta1, A_P, L, RL, P):\n",
    "    pass\n",
    "\n",
    "def petrarca(t, alpha2, beta2, A_L, delta):\n",
    "    pass\n",
    "\n",
    "def inspiracion_petrarca(t, alpha3, beta3):\n",
    "    pass"
   ]
  }
 ],
 "metadata": {
  "kernelspec": {
   "display_name": "Python 3",
   "language": "python",
   "name": "python3"
  },
  "language_info": {
   "codemirror_mode": {
    "name": "ipython",
    "version": 3
   },
   "file_extension": ".py",
   "mimetype": "text/x-python",
   "name": "python",
   "nbconvert_exporter": "python",
   "pygments_lexer": "ipython3",
   "version": "3.4.2"
  }
 },
 "nbformat": 4,
 "nbformat_minor": 2
}
