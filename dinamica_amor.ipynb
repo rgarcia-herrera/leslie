{
 "cells": [
  {
   "cell_type": "markdown",
   "metadata": {},
   "source": [
    "# Dinámica del Amor\n",
    "\n",
    "Se modela el estado emotivo de dos amantes, al paso del tiempo.\n",
    "\n",
    "<table>\n",
    "    <tr>\n",
    "        <td>\n",
    "            <img src=\"https://upload.wikimedia.org/wikipedia/commons/thumb/d/d9/Altichiero%2C_ritratto_di_Francesco_Petrarca.jpg/192px-Altichiero%2C_ritratto_di_Francesco_Petrarca.jpg\" />\n",
    "        </td>\n",
    "        <td>\n",
    "            <img src=\"https://upload.wikimedia.org/wikipedia/commons/thumb/4/48/Francesco_Petrarca01.jpg/200px-Francesco_Petrarca01.jpg\" />\n",
    "        </td>\n",
    "    </tr>\n",
    "</table>"
   ]
  },
  {
   "cell_type": "code",
   "execution_count": 15,
   "metadata": {},
   "outputs": [],
   "source": [
    "# Para hacer experimentos numéricos importamos numpy\n",
    "import numpy as np\n",
    "\n",
    "# y biblioteca para plotear\n",
    "import matplotlib\n",
    "import matplotlib.pyplot as plt\n",
    "%matplotlib inline\n",
    "\n",
    "# cómputo simbólico con sympy\n",
    "from sympy import *\n",
    "init_printing()\n",
    "\n",
    "# definimos qué variables usar como símbolos\n",
    "alpha1, alfa2, alfa3, beta1, beta2 = symbols('alpha1 alpha2 alpha3 beta1 beta2')\n",
    "t = symbols('t')\n",
    "L, P = symbols('L P', cls=Function)"
   ]
  },
  {
   "cell_type": "markdown",
   "metadata": {},
   "source": [
    "## Tasa de cambio del estado emotivo de Laura\n",
    "\n",
    "$\\frac{dL(t)}{dt}=-\\alpha_{1}L(t)+R_{L}(P(t))+\\beta_{1}A_{P}$"
   ]
  },
  {
   "cell_type": "markdown",
   "metadata": {},
   "source": [
    "## Tasa de cambio del estado emotivo de Petraca\n",
    "$\\frac{dP(t)}{dt}=-\\alpha_{2}L(t)+R_{p}(L(t))+\\beta_{2}\\frac{A_{L}}{1+\\delta Z(t)}$"
   ]
  },
  {
   "cell_type": "markdown",
   "metadata": {},
   "source": [
    "## Tasa de cambio de la inspiración del Poeta\n",
    "$\\frac{dZ(t)}{dt}=-\\alpha_{3}Z(t)+\\beta_{3}P(t)$"
   ]
  },
  {
   "cell_type": "markdown",
   "metadata": {},
   "source": [
    "$R_{P}(L)=\\gamma_{2}L$"
   ]
  },
  {
   "cell_type": "markdown",
   "metadata": {},
   "source": [
    "$R_{L}(P)=\\beta_{1}P\\left(1-\\left(\\frac{P}{\\gamma}\\right)^{2}\\right)$"
   ]
  },
  {
   "cell_type": "code",
   "execution_count": 8,
   "metadata": {},
   "outputs": [],
   "source": [
    "def reaccion_laura(P, gamma):\n",
    "    return beta1*P * (1 - (P/gamma)**2)\n",
    "\n",
    "def reaccion_petraca(L, gamma2):\n",
    "    return gamma2 * L\n",
    "\n",
    "def dlaura(t, alpha1, beta1, atractivo_petraca, L, P):\n",
    "    def dl(t):\n",
    "        return -alpha1 * L[t] + reaccion_laura(P[t], gamma=beta1) + beta1 * atractivo_petraca\n",
    "    return dl\n",
    "\n",
    "def dpetrarca(t, alpha2, beta2, atractivo_laura, delta, L, Z):\n",
    "    def dp(t):\n",
    "        return -alpha2*L[t] + reaccion_petraca(L[t], gamma2=beta2) + beta2 * (atractivo_laura/(1 + delta * Z[t]))\n",
    "    return dp\n",
    "\n",
    "def dinspiracion_petrarca(t, alpha3, beta3, P):\n",
    "    def dz(t):\n",
    "        return -alpha3*Z[t] + beta3*P[t]\n",
    "    return dz"
   ]
  },
  {
   "cell_type": "markdown",
   "metadata": {},
   "source": [
    "$\\alpha_{1}>\\alpha_{2}>\\alpha_{3}$"
   ]
  },
  {
   "cell_type": "code",
   "execution_count": 12,
   "metadata": {},
   "outputs": [],
   "source": [
    "alpha3 = 1.2 / 10\n",
    "alpha2 = 1.2\n",
    "alpha1 = 3 * alpha2\n",
    "\n",
    "beta1 = 1.2\n",
    "beta2 = 6\n",
    "beta3 = 12"
   ]
  },
  {
   "cell_type": "code",
   "execution_count": 11,
   "metadata": {},
   "outputs": [
    {
     "data": {
      "text/plain": [
       "6.0"
      ]
     },
     "execution_count": 11,
     "metadata": {},
     "output_type": "execute_result"
    }
   ],
   "source": [
    "5 * 1.2"
   ]
  }
 ],
 "metadata": {
  "kernelspec": {
   "display_name": "Python 3",
   "language": "python",
   "name": "python3"
  },
  "language_info": {
   "codemirror_mode": {
    "name": "ipython",
    "version": 3
   },
   "file_extension": ".py",
   "mimetype": "text/x-python",
   "name": "python",
   "nbconvert_exporter": "python",
   "pygments_lexer": "ipython3",
   "version": "3.4.2"
  }
 },
 "nbformat": 4,
 "nbformat_minor": 2
}
