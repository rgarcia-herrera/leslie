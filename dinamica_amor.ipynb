{
 "cells": [
  {
   "cell_type": "markdown",
   "metadata": {},
   "source": [
    "# Dinámica del Amor\n",
    "\n",
    "Se modela el estado emotivo de dos amantes, al paso del tiempo.\n",
    "\n",
    "<table>\n",
    "    <tr>\n",
    "        <td>\n",
    "            <img src=\"https://upload.wikimedia.org/wikipedia/commons/thumb/d/d9/Altichiero%2C_ritratto_di_Francesco_Petrarca.jpg/192px-Altichiero%2C_ritratto_di_Francesco_Petrarca.jpg\" />\n",
    "        </td>\n",
    "        <td>\n",
    "            <img src=\"https://upload.wikimedia.org/wikipedia/commons/thumb/4/48/Francesco_Petrarca01.jpg/200px-Francesco_Petrarca01.jpg\" />\n",
    "        </td>\n",
    "    </tr>\n",
    "</table>"
   ]
  },
  {
   "cell_type": "code",
   "execution_count": 1,
   "metadata": {},
   "outputs": [],
   "source": [
    "# Para hacer experimentos numéricos importamos numpy\n",
    "import numpy as np\n",
    "import pandas as pd\n",
    "\n",
    "# y biblioteca para plotear\n",
    "import matplotlib\n",
    "import matplotlib.pyplot as plt\n",
    "%matplotlib inline\n",
    "\n",
    "# cómputo simbólico con sympy\n",
    "from sympy import *\n",
    "init_printing()"
   ]
  },
  {
   "cell_type": "markdown",
   "metadata": {},
   "source": [
    "## Tasa de cambio del estado emotivo de Laura\n",
    "\n",
    "$\\frac{dL(t)}{dt}=-\\alpha_{1}L(t)+R_{L}(P(t))+\\beta_{1}A_{P}$"
   ]
  },
  {
   "cell_type": "markdown",
   "metadata": {},
   "source": [
    "## Tasa de cambio del estado emotivo de Petrarca\n",
    "$\\frac{dP(t)}{dt}=-\\alpha_{2}L(t)+R_{p}(L(t))+\\beta_{2}\\frac{A_{L}}{1+\\delta Z(t)}$"
   ]
  },
  {
   "cell_type": "markdown",
   "metadata": {},
   "source": [
    "## Tasa de cambio de la inspiración del Poeta\n",
    "$\\frac{dZ(t)}{dt}=-\\alpha_{3}Z(t)+\\beta_{3}P(t)$"
   ]
  },
  {
   "cell_type": "markdown",
   "metadata": {},
   "source": [
    "## Reacción del Poeta a Laura\n",
    "$R_{P}(L)=\\gamma_{2}L$"
   ]
  },
  {
   "cell_type": "markdown",
   "metadata": {},
   "source": [
    "## Reacción de la Bella al Poeta\n",
    "$R_{L}(P)=\\beta_{1}P\\left(1-\\left(\\frac{P}{\\gamma}\\right)^{2}\\right)$"
   ]
  },
  {
   "cell_type": "code",
   "execution_count": 80,
   "metadata": {},
   "outputs": [],
   "source": [
    "def dlaura(alpha1, beta1, gamma, atractivo_petrarca):\n",
    "    def dl(t):\n",
    "        return -alpha1 * L[t] + beta1 * ((P[t] / (1-(P[t]/gamma)**2))+atractivo_petrarca)\n",
    "    return dl\n",
    "\n",
    "def dpetrarca(alpha2, beta2, delta, atractivo_laura):\n",
    "    def dp(t):\n",
    "        return -alpha2*P[t] + beta2*(L[t]+atractivo_laura/(1+delta*Z[t]))\n",
    "    return dp\n",
    "\n",
    "def dinspiracion_petrarca(alpha3, beta3):\n",
    "    def dz(t):\n",
    "        return -alpha3*Z[t] + beta3*P[t]\n",
    "    return dz"
   ]
  },
  {
   "cell_type": "markdown",
   "metadata": {},
   "source": [
    "$\\alpha_{1}>\\alpha_{2}>\\alpha_{3}$"
   ]
  },
  {
   "cell_type": "code",
   "execution_count": 81,
   "metadata": {},
   "outputs": [],
   "source": [
    "alpha1 = 4.6\n",
    "alpha2 = 1.2\n",
    "alpha3 = 0.12\n",
    "\n",
    "beta1 = 1\n",
    "beta2 = 6\n",
    "beta3 = -3\n",
    "\n",
    "gamma = 1\n",
    "delta = 1\n",
    "\n",
    "atractivo_petrarca = -1\n",
    "atractivo_laura = 2\n",
    "\n",
    "dl = dlaura(alpha1, beta1, gamma, atractivo_petrarca)\n",
    "dp = dpetrarca(alpha2, beta2, delta, atractivo_laura)\n",
    "dz = dinspiracion_petrarca(alpha3, beta3)"
   ]
  },
  {
   "cell_type": "code",
   "execution_count": 4,
   "metadata": {},
   "outputs": [],
   "source": [
    "\n",
    "#def dl(t):\n",
    "#    return -3.6*L[t] + 1.2*P[t]/(1 - P[t]**2)\n",
    "\n",
    "#def dp(t):\n",
    "#    return -1.2*L[t] + 6 * L[t] + 12 / (1 + Z[t])\n",
    "\n",
    "#def dz(t):\n",
    "#    return -0.12 * Z[t] + 12 * P[t]"
   ]
  },
  {
   "cell_type": "code",
   "execution_count": 84,
   "metadata": {},
   "outputs": [],
   "source": [
    "years = 20\n",
    "dt = 0.4\n",
    "steps = int(years / dt)\n",
    "\n",
    "L = np.zeros(steps)\n",
    "P = np.zeros(steps)\n",
    "Z = np.zeros(steps)\n",
    "\n",
    "\n",
    "for t in range(steps-1):\n",
    "    # print(t,dl(t),dp(t),dz(t))\n",
    "    L[t+1] = L[t] + dt*dl(t)\n",
    "    P[t+1] = P[t] + dt*dp(t)\n",
    "    Z[t+1] = Z[t] + dt*dz(t)"
   ]
  },
  {
   "cell_type": "code",
   "execution_count": 6,
   "metadata": {},
   "outputs": [],
   "source": [
    "#f = pd.DataFrame()\n",
    "#pd.DataFrame({'P': P.tolist(), 'Z': Z.tolist(), 'L': L.tolist()})"
   ]
  },
  {
   "cell_type": "code",
   "execution_count": 85,
   "metadata": {},
   "outputs": [
    {
     "data": {
      "text/plain": [
       "[<matplotlib.lines.Line2D at 0x7fb6e49997b8>]"
      ]
     },
     "execution_count": 85,
     "metadata": {},
     "output_type": "execute_result"
    },
    {
     "data": {
      "image/png": "[encoded data removed]",
      "text/plain": [
       "<Figure size 432x288 with 1 Axes>"
      ]
     },
     "metadata": {},
     "output_type": "display_data"
    }
   ],
   "source": [
    "plt.plot(range(steps), P, color='blue')\n",
    "plt.plot(range(steps), Z, color='teal')\n",
    "plt.plot(range(steps), L, color='pink')"
   ]
  }
 ],
 "metadata": {
  "kernelspec": {
   "display_name": "Python 3",
   "language": "python",
   "name": "python3"
  },
  "language_info": {
   "codemirror_mode": {
    "name": "ipython",
    "version": 3
   },
   "file_extension": ".py",
   "mimetype": "text/x-python",
   "name": "python",
   "nbconvert_exporter": "python",
   "pygments_lexer": "ipython3",
   "version": "3.4.2"
  }
 },
 "nbformat": 4,
 "nbformat_minor": 2
}
