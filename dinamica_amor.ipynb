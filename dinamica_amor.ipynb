{
 "cells": [
  {
   "cell_type": "markdown",
   "metadata": {},
   "source": [
    "# Dinámica del Amor\n",
    "\n",
    "Se modela el estado emotivo de dos amantes, al paso del tiempo.\n",
    "\n",
    "<table>\n",
    "    <tr>\n",
    "        <td>\n",
    "            <img src=\"https://upload.wikimedia.org/wikipedia/commons/thumb/d/d9/Altichiero%2C_ritratto_di_Francesco_Petrarca.jpg/192px-Altichiero%2C_ritratto_di_Francesco_Petrarca.jpg\" />\n",
    "        </td>\n",
    "        <td>\n",
    "            <img src=\"https://upload.wikimedia.org/wikipedia/commons/thumb/4/48/Francesco_Petrarca01.jpg/200px-Francesco_Petrarca01.jpg\" />\n",
    "        </td>\n",
    "    </tr>\n",
    "</table>"
   ]
  },
  {
   "cell_type": "code",
   "execution_count": 1,
   "metadata": {},
   "outputs": [],
   "source": [
    "# Para hacer experimentos numéricos importamos numpy\n",
    "import numpy as np\n",
    "import pandas as pd\n",
    "\n",
    "# y biblioteca para plotear\n",
    "import matplotlib\n",
    "import matplotlib.pyplot as plt\n",
    "%matplotlib inline\n",
    "\n",
    "# cómputo simbólico con sympy\n",
    "from sympy import *\n",
    "init_printing()"
   ]
  },
  {
   "cell_type": "markdown",
   "metadata": {},
   "source": [
    "## Tasa de cambio del estado emotivo de Laura\n",
    "\n",
    "$\\frac{dL(t)}{dt}=-\\alpha_{1}L(t)+R_{L}(P(t))+\\beta_{1}A_{P}$"
   ]
  },
  {
   "cell_type": "markdown",
   "metadata": {},
   "source": [
    "## Tasa de cambio del estado emotivo de Petrarca\n",
    "$\\frac{dP(t)}{dt}=-\\alpha_{2}L(t)+R_{p}(L(t))+\\beta_{2}\\frac{A_{L}}{1+\\delta Z(t)}$"
   ]
  },
  {
   "cell_type": "markdown",
   "metadata": {},
   "source": [
    "## Tasa de cambio de la inspiración del Poeta\n",
    "$\\frac{dZ(t)}{dt}=-\\alpha_{3}Z(t)+\\beta_{3}P(t)$"
   ]
  },
  {
   "cell_type": "markdown",
   "metadata": {},
   "source": [
    "## Reacción del Poeta a Laura\n",
    "$R_{P}(L)=\\gamma_{2}L$"
   ]
  },
  {
   "cell_type": "markdown",
   "metadata": {},
   "source": [
    "## Reacción de la Bella al Poeta\n",
    "$R_{L}(P)=\\beta_{1}P\\left(1-\\left(\\frac{P}{\\gamma}\\right)^{2}\\right)$"
   ]
  },
  {
   "cell_type": "code",
   "execution_count": 2,
   "metadata": {},
   "outputs": [],
   "source": [
    "def reaccion_laura(p, gamma):\n",
    "    return beta1* p * (1 - (p/gamma)**2)\n",
    "\n",
    "def reaccion_petrarca(l, gamma2):\n",
    "    return gamma2 * l\n",
    "\n",
    "def dlaura(alpha1, beta1, atractivo_petrarca):\n",
    "    def dl(t, L, P):\n",
    "        return -alpha1 * L[t] + reaccion_laura(P[t], gamma=beta1) + beta1 * atractivo_petrarca\n",
    "    return dl\n",
    "\n",
    "def dpetrarca(alpha2, beta2, atractivo_laura, delta=1):\n",
    "    def dp(t, L, Z):\n",
    "        return -alpha2*L[t] + reaccion_petrarca(L[t], gamma2=beta2) + beta2 * (atractivo_laura/(1 + delta * Z[t]))\n",
    "    return dp\n",
    "\n",
    "def dinspiracion_petrarca(alpha3, beta3):\n",
    "    def dz(t, P, Z):\n",
    "        return -alpha3*Z[t] + beta3*P[t]\n",
    "    return dz"
   ]
  },
  {
   "cell_type": "markdown",
   "metadata": {},
   "source": [
    "$\\alpha_{1}>\\alpha_{2}>\\alpha_{3}$"
   ]
  },
  {
   "cell_type": "code",
   "execution_count": 3,
   "metadata": {},
   "outputs": [],
   "source": [
    "alpha3 = 1.2 / 10\n",
    "alpha2 = 1.2\n",
    "alpha1 = 3 * alpha2\n",
    "\n",
    "beta1 = 1.2\n",
    "beta2 = 6\n",
    "beta3 = 12\n",
    "\n",
    "atractivo_petrarca = 1\n",
    "atractivo_laura = 2"
   ]
  },
  {
   "cell_type": "code",
   "execution_count": 4,
   "metadata": {},
   "outputs": [],
   "source": [
    "dl = dlaura(alpha1, beta1, atractivo_petrarca)\n",
    "dp = dpetrarca(alpha2, beta2, atractivo_laura)\n",
    "dz = dinspiracion_petrarca(alpha3, beta3)"
   ]
  },
  {
   "cell_type": "code",
   "execution_count": 10,
   "metadata": {},
   "outputs": [],
   "source": [
    "L = np.zeros(20)\n",
    "P = np.zeros(20)\n",
    "Z = np.zeros(20)"
   ]
  },
  {
   "cell_type": "code",
   "execution_count": 11,
   "metadata": {},
   "outputs": [],
   "source": [
    "for t in range(1, 20):\n",
    "    L[t] = L[t-1] + dl(t, L, P)\n",
    "    P[t] = P[t-1] + dp(t, L, Z)\n",
    "    Z[t] = Z[t-1] + dz(t, P, Z)"
   ]
  },
  {
   "cell_type": "code",
   "execution_count": 12,
   "metadata": {},
   "outputs": [
    {
     "data": {
      "text/html": [
       "<div>\n",
       "<style scoped>\n",
       "    .dataframe tbody tr th:only-of-type {\n",
       "        vertical-align: middle;\n",
       "    }\n",
       "\n",
       "    .dataframe tbody tr th {\n",
       "        vertical-align: top;\n",
       "    }\n",
       "\n",
       "    .dataframe thead th {\n",
       "        text-align: right;\n",
       "    }\n",
       "</style>\n",
       "<table border=\"1\" class=\"dataframe\">\n",
       "  <thead>\n",
       "    <tr style=\"text-align: right;\">\n",
       "      <th></th>\n",
       "      <th>L</th>\n",
       "      <th>P</th>\n",
       "      <th>Z</th>\n",
       "    </tr>\n",
       "  </thead>\n",
       "  <tbody>\n",
       "    <tr>\n",
       "      <th>0</th>\n",
       "      <td>0.0</td>\n",
       "      <td>0.00</td>\n",
       "      <td>0.00</td>\n",
       "    </tr>\n",
       "    <tr>\n",
       "      <th>1</th>\n",
       "      <td>1.2</td>\n",
       "      <td>17.76</td>\n",
       "      <td>213.12</td>\n",
       "    </tr>\n",
       "    <tr>\n",
       "      <th>2</th>\n",
       "      <td>2.4</td>\n",
       "      <td>41.28</td>\n",
       "      <td>708.48</td>\n",
       "    </tr>\n",
       "    <tr>\n",
       "      <th>3</th>\n",
       "      <td>3.6</td>\n",
       "      <td>70.56</td>\n",
       "      <td>1555.20</td>\n",
       "    </tr>\n",
       "    <tr>\n",
       "      <th>4</th>\n",
       "      <td>4.8</td>\n",
       "      <td>105.60</td>\n",
       "      <td>2822.40</td>\n",
       "    </tr>\n",
       "    <tr>\n",
       "      <th>5</th>\n",
       "      <td>6.0</td>\n",
       "      <td>146.40</td>\n",
       "      <td>4579.20</td>\n",
       "    </tr>\n",
       "    <tr>\n",
       "      <th>6</th>\n",
       "      <td>7.2</td>\n",
       "      <td>192.96</td>\n",
       "      <td>6894.72</td>\n",
       "    </tr>\n",
       "    <tr>\n",
       "      <th>7</th>\n",
       "      <td>8.4</td>\n",
       "      <td>245.28</td>\n",
       "      <td>9838.08</td>\n",
       "    </tr>\n",
       "    <tr>\n",
       "      <th>8</th>\n",
       "      <td>9.6</td>\n",
       "      <td>303.36</td>\n",
       "      <td>13478.40</td>\n",
       "    </tr>\n",
       "    <tr>\n",
       "      <th>9</th>\n",
       "      <td>10.8</td>\n",
       "      <td>367.20</td>\n",
       "      <td>17884.80</td>\n",
       "    </tr>\n",
       "    <tr>\n",
       "      <th>10</th>\n",
       "      <td>12.0</td>\n",
       "      <td>436.80</td>\n",
       "      <td>23126.40</td>\n",
       "    </tr>\n",
       "    <tr>\n",
       "      <th>11</th>\n",
       "      <td>13.2</td>\n",
       "      <td>512.16</td>\n",
       "      <td>29272.32</td>\n",
       "    </tr>\n",
       "    <tr>\n",
       "      <th>12</th>\n",
       "      <td>14.4</td>\n",
       "      <td>593.28</td>\n",
       "      <td>36391.68</td>\n",
       "    </tr>\n",
       "    <tr>\n",
       "      <th>13</th>\n",
       "      <td>15.6</td>\n",
       "      <td>680.16</td>\n",
       "      <td>44553.60</td>\n",
       "    </tr>\n",
       "    <tr>\n",
       "      <th>14</th>\n",
       "      <td>16.8</td>\n",
       "      <td>772.80</td>\n",
       "      <td>53827.20</td>\n",
       "    </tr>\n",
       "    <tr>\n",
       "      <th>15</th>\n",
       "      <td>18.0</td>\n",
       "      <td>871.20</td>\n",
       "      <td>64281.60</td>\n",
       "    </tr>\n",
       "    <tr>\n",
       "      <th>16</th>\n",
       "      <td>19.2</td>\n",
       "      <td>975.36</td>\n",
       "      <td>75985.92</td>\n",
       "    </tr>\n",
       "    <tr>\n",
       "      <th>17</th>\n",
       "      <td>20.4</td>\n",
       "      <td>1085.28</td>\n",
       "      <td>89009.28</td>\n",
       "    </tr>\n",
       "    <tr>\n",
       "      <th>18</th>\n",
       "      <td>21.6</td>\n",
       "      <td>1200.96</td>\n",
       "      <td>103420.80</td>\n",
       "    </tr>\n",
       "    <tr>\n",
       "      <th>19</th>\n",
       "      <td>22.8</td>\n",
       "      <td>1322.40</td>\n",
       "      <td>119289.60</td>\n",
       "    </tr>\n",
       "  </tbody>\n",
       "</table>\n",
       "</div>"
      ],
      "text/plain": [
       "       L        P          Z\n",
       "0    0.0     0.00       0.00\n",
       "1    1.2    17.76     213.12\n",
       "2    2.4    41.28     708.48\n",
       "3    3.6    70.56    1555.20\n",
       "4    4.8   105.60    2822.40\n",
       "5    6.0   146.40    4579.20\n",
       "6    7.2   192.96    6894.72\n",
       "7    8.4   245.28    9838.08\n",
       "8    9.6   303.36   13478.40\n",
       "9   10.8   367.20   17884.80\n",
       "10  12.0   436.80   23126.40\n",
       "11  13.2   512.16   29272.32\n",
       "12  14.4   593.28   36391.68\n",
       "13  15.6   680.16   44553.60\n",
       "14  16.8   772.80   53827.20\n",
       "15  18.0   871.20   64281.60\n",
       "16  19.2   975.36   75985.92\n",
       "17  20.4  1085.28   89009.28\n",
       "18  21.6  1200.96  103420.80\n",
       "19  22.8  1322.40  119289.60"
      ]
     },
     "execution_count": 12,
     "metadata": {},
     "output_type": "execute_result"
    }
   ],
   "source": [
    "f = pd.DataFrame()\n",
    "pd.DataFrame({'P': P.tolist(), 'Z': Z.tolist(), 'L': L.tolist()})"
   ]
  },
  {
   "cell_type": "code",
   "execution_count": 13,
   "metadata": {},
   "outputs": [
    {
     "data": {
      "text/plain": [
       "[<matplotlib.lines.Line2D at 0x7fba7d7eda58>]"
      ]
     },
     "execution_count": 13,
     "metadata": {},
     "output_type": "execute_result"
    },
    {
     "data": {
      "image/png": "[encoded data removed]",
      "text/plain": [
       "<Figure size 432x288 with 1 Axes>"
      ]
     },
     "metadata": {},
     "output_type": "display_data"
    }
   ],
   "source": [
    "plt.plot(range(20), P, color='blue')\n",
    "#plt.plot(range(20), Z, color='teal')\n",
    "plt.plot(range(20), L, color='pink')"
   ]
  }
 ],
 "metadata": {
  "kernelspec": {
   "display_name": "Python 3",
   "language": "python",
   "name": "python3"
  },
  "language_info": {
   "codemirror_mode": {
    "name": "ipython",
    "version": 3
   },
   "file_extension": ".py",
   "mimetype": "text/x-python",
   "name": "python",
   "nbconvert_exporter": "python",
   "pygments_lexer": "ipython3",
   "version": "3.4.2"
  }
 },
 "nbformat": 4,
 "nbformat_minor": 2
}
