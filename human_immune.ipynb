{
 "cells": [
  {
   "cell_type": "markdown",
   "metadata": {
    "ein.tags": [
     "worksheet-0"
    ],
    "slideshow": {
     "slide_type": "-"
    }
   },
   "source": [
    "# Human immune response to infectious disease\n",
    "\n",
    "Unos modelos dinámicos."
   ]
  },
  {
   "cell_type": "code",
   "execution_count": 1,
   "metadata": {
    "autoscroll": "json-false",
    "ein.tags": [
     "worksheet-0"
    ],
    "slideshow": {
     "slide_type": "-"
    }
   },
   "outputs": [],
   "source": [
    "# Para hacer experimentos numéricos importamos numpy\n",
    "import numpy as np\n",
    "\n",
    "# y biblioteca para plotear\n",
    "import matplotlib\n",
    "import matplotlib.pyplot as plt\n",
    "%matplotlib inline\n",
    "\n",
    "# cómputo simbólico con sympy\n",
    "from sympy import *\n",
    "# init_printing(use_latex='matplotlib')  # en emacs\n",
    "init_printing()"
   ]
  },
  {
   "cell_type": "markdown",
   "metadata": {
    "ein.tags": [
     "worksheet-0"
    ],
    "slideshow": {
     "slide_type": "-"
    }
   },
   "source": [
    "## Linfocitos sin virus"
   ]
  },
  {
   "cell_type": "code",
   "execution_count": 2,
   "metadata": {
    "autoscroll": "json-false",
    "ein.tags": [
     "worksheet-0"
    ],
    "slideshow": {
     "slide_type": "-"
    }
   },
   "outputs": [],
   "source": [
    "Lamda1, Lamda2, mu1, mu2, a1, a2, b1, b2, E1, E2 = symbols('Lamda1 Lamda2 mu1 mu2 a1 a2 b1 b2 E1 E2')"
   ]
  },
  {
   "cell_type": "code",
   "execution_count": 3,
   "metadata": {
    "autoscroll": "json-false",
    "ein.tags": [
     "worksheet-0"
    ],
    "slideshow": {
     "slide_type": "-"
    }
   },
   "outputs": [
    {
     "data": {
      "image/png": "[encoded data removed]",
      "text/latex": [
       "$$\\frac{E_{1} E_{2} a_{1}}{E_{1} E_{2} b_{1} + 1} - E_{1} \\mu_{1} + \\Lambda_{1}$$"
      ],
      "text/plain": [
       "  E₁⋅E₂⋅a₁               \n",
       "──────────── - E₁⋅μ₁ + Λ₁\n",
       "E₁⋅E₂⋅b₁ + 1             "
      ]
     },
     "execution_count": 3,
     "metadata": {},
     "output_type": "execute_result"
    }
   ],
   "source": [
    "dE1 = Lamda1 - mu1 * E1 + (a1 * E1 * E2)/(1 + b1 * E1 * E2)\n",
    "dE1"
   ]
  },
  {
   "cell_type": "code",
   "execution_count": 4,
   "metadata": {
    "autoscroll": "json-false",
    "ein.tags": [
     "worksheet-0"
    ],
    "slideshow": {
     "slide_type": "-"
    }
   },
   "outputs": [
    {
     "data": {
      "image/png": "[encoded data removed]",
      "text/latex": [
       "$$\\frac{E_{1} E_{2} a_{2}}{E_{1} E_{2} b_{2} + 1} - E_{2} \\mu_{2} + \\Lambda_{2}$$"
      ],
      "text/plain": [
       "  E₁⋅E₂⋅a₂               \n",
       "──────────── - E₂⋅μ₂ + Λ₂\n",
       "E₁⋅E₂⋅b₂ + 1             "
      ]
     },
     "execution_count": 4,
     "metadata": {},
     "output_type": "execute_result"
    }
   ],
   "source": [
    "dE2 = Lamda2 - mu2 * E2 + (a2 * E1 * E2)/(1 + b2 * E1 * E2)\n",
    "dE2"
   ]
  },
  {
   "cell_type": "markdown",
   "metadata": {
    "ein.tags": [
     "worksheet-0"
    ],
    "slideshow": {
     "slide_type": "-"
    }
   },
   "source": [
    "## Equilibrios"
   ]
  },
  {
   "cell_type": "code",
   "execution_count": 5,
   "metadata": {
    "autoscroll": "json-false",
    "ein.tags": [
     "worksheet-0"
    ],
    "slideshow": {
     "slide_type": "-"
    }
   },
   "outputs": [
    {
     "data": {
      "image/png": "[encoded data removed]",
      "text/latex": [
       "$$\\left ( \\frac{E_{2} \\mu_{2} - \\Lambda_{2}}{E_{2} \\left(- E_{2} b_{2} \\mu_{2} + \\Lambda_{2} b_{2} + a_{2}\\right)}, \\quad \\frac{E_{1} \\mu_{1} - \\Lambda_{1}}{E_{1} \\left(- E_{1} b_{1} \\mu_{1} + \\Lambda_{1} b_{1} + a_{1}\\right)}\\right )$$"
      ],
      "text/plain": [
       "⎛         E₂⋅μ₂ - Λ₂                   E₁⋅μ₁ - Λ₁        ⎞\n",
       "⎜───────────────────────────, ───────────────────────────⎟\n",
       "⎝E₂⋅(-E₂⋅b₂⋅μ₂ + Λ₂⋅b₂ + a₂)  E₁⋅(-E₁⋅b₁⋅μ₁ + Λ₁⋅b₁ + a₁)⎠"
      ]
     },
     "execution_count": 5,
     "metadata": {},
     "output_type": "execute_result"
    }
   ],
   "source": [
    "e1 = solve(dE2, E1)[0]\n",
    "e2 = solve(dE1, E2)[0]\n",
    "e1, e2"
   ]
  },
  {
   "cell_type": "code",
   "execution_count": null,
   "metadata": {
    "autoscroll": "json-false",
    "ein.tags": [
     "worksheet-0"
    ],
    "slideshow": {
     "slide_type": "-"
    }
   },
   "outputs": [],
   "source": [
    "static_e1 = solve(e1.subs(E2, e2), E1)\n",
    "static_e1"
   ]
  },
  {
   "cell_type": "code",
   "execution_count": null,
   "metadata": {
    "autoscroll": "json-false",
    "ein.tags": [
     "worksheet-0"
    ],
    "slideshow": {
     "slide_type": "-"
    }
   },
   "outputs": [],
   "source": [
    "static_e1[1]"
   ]
  },
  {
   "cell_type": "code",
   "execution_count": null,
   "metadata": {
    "autoscroll": "json-false",
    "ein.tags": [
     "worksheet-0"
    ],
    "slideshow": {
     "slide_type": "-"
    }
   },
   "outputs": [],
   "source": [
    "mu1 = 1.25\n",
    "mu2 = 1.25\n",
    "a1 = 0.252\n",
    "a2 = 0.252\n",
    "b1 = 0.008\n",
    "b2 = 0.008\n",
    "\n",
    "e1 =(1/(2*b1*mu1)) * (b1\n",
    "                      + a1\n",
    "                      - mu1*mu2\n",
    "                      + np.sqrt((b1**2)\n",
    "                               + 2*a1*b1\n",
    "                               + 2**b1*mu1*mu2\n",
    "                               + (a1**2)\n",
    "                               - 2*a1*mu1*mu2\n",
    "                               + (mu1**2)*(mu2**2)))\n",
    "\n",
    "e1"
   ]
  },
  {
   "cell_type": "markdown",
   "metadata": {
    "ein.tags": [
     "worksheet-0"
    ],
    "slideshow": {
     "slide_type": "-"
    }
   },
   "source": [
    "## Campo de vectores y trayectorias"
   ]
  },
  {
   "cell_type": "code",
   "execution_count": null,
   "metadata": {
    "autoscroll": "json-false",
    "ein.tags": [
     "worksheet-0"
    ],
    "slideshow": {
     "slide_type": "-"
    }
   },
   "outputs": [],
   "source": [
    "def dE1(E1, E2):\n",
    "    return Lamda1 - mu1 * E1 + (a1 * E1 * E2)/(1 + b1*E1*E2)\n",
    "\n",
    "def dE2(E1, E2):\n",
    "    return Lamda2 - mu2 * E2 + (a2 * E1 * E2)/(1 + b2*E1*E2)"
   ]
  },
  {
   "cell_type": "code",
   "execution_count": null,
   "metadata": {
    "autoscroll": "json-false",
    "ein.tags": [
     "worksheet-0"
    ],
    "slideshow": {
     "slide_type": "-"
    }
   },
   "outputs": [],
   "source": [
    "def step(x, y, dt, f, g):\n",
    "    return (x + dt * f(x, y),\n",
    "             y + dt * g(x, y))\n",
    "\n",
    "def trayectoria(x0, y0, f, g, dt=0.01, steps=100):\n",
    "    x = x0\n",
    "    y = y0\n",
    "    t = list()\n",
    "    for n in range(steps):\n",
    "        t.append((x, y))\n",
    "        x, y = step(x, y, dt, f, g)\n",
    "    return t"
   ]
  },
  {
   "cell_type": "code",
   "execution_count": null,
   "metadata": {
    "autoscroll": "json-false",
    "ein.tags": [
     "worksheet-0"
    ],
    "slideshow": {
     "slide_type": "-"
    }
   },
   "outputs": [],
   "source": [
    "Lamda1 = 1\n",
    "Lamda2 = 1\n",
    "mu1 = 1.25\n",
    "mu2 = 1.25\n",
    "a1 = 0.252\n",
    "a2 = 0.252\n",
    "b1 = 0.008\n",
    "b2 = 0.008\n",
    "\n",
    "i, j = np.meshgrid(np.linspace(-2, 11, 25),\n",
    "                   np.linspace(-2, 11, 25))\n",
    "\n",
    "u = dE1(i, j)\n",
    "v = dE2(i, j)\n",
    "\n",
    "fig = plt.figure(figsize=(9,7))\n",
    "plt.quiver(i, j, u, v)\n",
    "\n",
    "\n",
    "E10 = 2\n",
    "E20 = 8\n",
    "dt = 0.1\n",
    "steps = 600\n",
    "E1, E2 = zip(*[coord\n",
    "               for coord in\n",
    "               trayectoria(E10, E20, dE1, dE2, dt, steps)])\n",
    "plt.plot(E1, E2, color='teal')\n",
    "plt.arrow(E1[-2], E2[-2],\n",
    "          E1[-1] - E1[-2], E2[-1] - E2[-2],\n",
    "           color=\"teal\", head_width=0.1, head_length=0.2)\n",
    "\n",
    "E10 = -2\n",
    "E20 = 4\n",
    "dt = 0.1\n",
    "steps = 10\n",
    "E1, E2 = zip(*[coord\n",
    "               for coord in\n",
    "               trayectoria(E10, E20, dE1, dE2, dt, steps)])\n",
    "plt.plot(E1, E2, color='orange')\n",
    "plt.arrow(E1[-2], E2[-2],\n",
    "          E1[-1] - E1[-2], E2[-1] - E2[-2],\n",
    "           color=\"orange\", head_width=0.2, head_length=0.2)\n",
    "\n",
    "\n",
    "E10 = 4\n",
    "E20 = -2\n",
    "dt = 0.1\n",
    "steps = 10\n",
    "E1, E2 = zip(*[coord\n",
    "               for coord in\n",
    "               trayectoria(E10, E20, dE1, dE2, dt, steps)])\n",
    "plt.plot(E1, E2, color='purple')\n",
    "plt.arrow(E1[-2], E2[-2],\n",
    "          E1[-1] - E1[-2], E2[-1] - E2[-2],\n",
    "           color=\"purple\", head_width=0.2, head_length=0.2)\n",
    "\n",
    "\n",
    "E10 = 10\n",
    "E20 = 4\n",
    "dt = 0.1\n",
    "steps = 20\n",
    "E1, E2 = zip(*[coord\n",
    "               for coord in\n",
    "               trayectoria(E10, E20, dE1, dE2, dt, steps)])\n",
    "plt.plot(E1, E2, color='green')\n",
    "plt.arrow(E1[-2], E2[-2],\n",
    "          E1[-1] - E1[-2], E2[-1] - E2[-2],\n",
    "           color=\"green\", head_width=0.2, head_length=0.2)\n",
    "\n",
    "\n",
    "E10 = 7\n",
    "E20 = 3\n",
    "dt = 0.1\n",
    "steps = 20\n",
    "E1, E2 = zip(*[coord\n",
    "               for coord in\n",
    "               trayectoria(E10, E20, dE1, dE2, dt, steps)])\n",
    "plt.plot(E1, E2, color='green')\n",
    "plt.arrow(E1[-2], E2[-2],\n",
    "          E1[-1] - E1[-2], E2[-1] - E2[-2],\n",
    "           color=\"green\", head_width=0.2, head_length=0.2)\n",
    "\n",
    "\n",
    "E10 = 4\n",
    "E20 = 8\n",
    "dt = 0.1\n",
    "steps = 20\n",
    "E1, E2 = zip(*[coord\n",
    "               for coord in\n",
    "               trayectoria(E10, E20, dE1, dE2, dt, steps)])\n",
    "plt.plot(E1, E2, color='green')\n",
    "plt.arrow(E1[-2], E2[-2],\n",
    "          E1[-1] - E1[-2], E2[-1] - E2[-2],\n",
    "           color=\"green\", head_width=0.2, head_length=0.2)\n",
    "\n",
    "plt.show()"
   ]
  },
  {
   "cell_type": "code",
   "execution_count": null,
   "metadata": {
    "autoscroll": "json-false",
    "ein.tags": [
     "worksheet-0"
    ],
    "slideshow": {
     "slide_type": "-"
    }
   },
   "outputs": [],
   "source": [
    "Lamda1 = 1\n",
    "Lamda2 = 1\n",
    "mu1 = 1.25\n",
    "mu2 = 1.25\n",
    "a1 = 0.252\n",
    "a2 = 0.252\n",
    "b1 = 0.008\n",
    "b2 = 0.008\n",
    "\n",
    "steps = 1000\n",
    "e1t = [3, ] + np.zeros(steps)\n",
    "e2t = [2, ] + np.zeros(steps)\n",
    "dt = 0.01\n",
    "for t in range(1, steps):\n",
    "    e1t[t] = e1t[t-1] + dt * dE1(e1t[t-1], e2t[t-1])\n",
    "    e2t[t] = e2t[t-1] + dt * dE2(e1t[t-1], e2t[t-1])\n",
    "\n",
    "fig = plt.figure(figsize=(10, 6))\n",
    "plt.plot(range(steps), e1t)\n",
    "plt.plot(range(steps), e2t)\n",
    "plt.show()"
   ]
  },
  {
   "cell_type": "markdown",
   "metadata": {
    "ein.tags": [
     "worksheet-0"
    ],
    "slideshow": {
     "slide_type": "-"
    }
   },
   "source": [
    "# En presencia del Virus"
   ]
  },
  {
   "cell_type": "code",
   "execution_count": null,
   "metadata": {
    "autoscroll": "json-false",
    "ein.tags": [
     "worksheet-0"
    ],
    "slideshow": {
     "slide_type": "-"
    }
   },
   "outputs": [],
   "source": [
    "def dE1(E1, E2, V):\n",
    "    return Lamda1 - mu1 * E1 + (a1 * E1 * E2)/(1 + b1*E1*E2) + K*V*E1\n",
    "\n",
    "def dE2(E1, E2):\n",
    "    return Lamda2 - mu2 * E2 + (a2 * E1 * E2)/(1 + b2*E1*E2)\n",
    "\n",
    "def dV(V, E1):\n",
    "    return r*V - k*V*E1"
   ]
  },
  {
   "cell_type": "code",
   "execution_count": null,
   "metadata": {
    "autoscroll": "json-false",
    "ein.tags": [
     "worksheet-0"
    ],
    "slideshow": {
     "slide_type": "-"
    }
   },
   "outputs": [],
   "source": [
    "Lamda1 = 1\n",
    "Lamda2 = 1\n",
    "mu1 = 1.25\n",
    "mu2 = 1.25\n",
    "a1 = 0.252\n",
    "a2 = 0.252\n",
    "b1 = 0.008\n",
    "b2 = 0.008\n",
    "r = 0.07\n",
    "k = 0.01\n",
    "K = 0.05\n",
    "\n",
    "steps = 10000\n",
    "e1t = [2, ] + np.zeros(steps)\n",
    "e2t = [8, ] + np.zeros(steps)\n",
    "vt = [0.1, ] + np.zeros(steps)\n",
    "dt = 0.001\n",
    "for t in range(1, steps):\n",
    "    e1t[t] = e1t[t-1] + dt * dE1(e1t[t-1], e2t[t-1], vt[t-1])\n",
    "    e2t[t] = e2t[t-1] + dt * dE2(e1t[t-1], e2t[t-1])\n",
    "    vt[t] = vt[t-1] + dt * dV(e1t[t-1], vt[t-1])\n",
    "\n",
    "from mpl_toolkits.mplot3d import Axes3D\n",
    "\n",
    "fig = plt.figure(figsize=(14, 13))\n",
    "#plt.quiver(X=i, Y=j, U=u, V=v, C=w)\n",
    "ax = fig.gca(projection='3d')\n",
    "ax.plot(vt, e1t, e2t)\n",
    "ax.set_xlabel(\"V\")\n",
    "ax.set_ylabel(\"$E_{1}$\")\n",
    "ax.set_zlabel(\"$E_{2}$\")\n",
    "plt.show()\n"
   ]
  },
  {
   "cell_type": "code",
   "execution_count": null,
   "metadata": {
    "autoscroll": "json-false",
    "ein.tags": [
     "worksheet-0"
    ],
    "slideshow": {
     "slide_type": "-"
    }
   },
   "outputs": [],
   "source": [
    "fig = plt.figure(figsize=(10,6))\n",
    "plt.plot(e1t, color='teal')\n",
    "plt.plot(e2t, color='orange')\n",
    "plt.plot(vt, color='green')"
   ]
  }
 ],
 "metadata": {
  "kernelspec": {
   "display_name": "Python 3",
   "language": "python",
   "name": "python3"
  },
  "language_info": {
   "codemirror_mode": {
    "name": "ipython",
    "version": 3
   },
   "file_extension": ".py",
   "mimetype": "text/x-python",
   "name": "python",
   "nbconvert_exporter": "python",
   "pygments_lexer": "ipython3",
   "version": "3.4.2"
  },
  "name": "human_immune.ipynb"
 },
 "nbformat": 4,
 "nbformat_minor": 2
}
